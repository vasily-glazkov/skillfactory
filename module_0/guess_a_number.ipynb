{
 "cells": [
  {
   "cell_type": "code",
   "execution_count": 2,
   "metadata": {},
   "outputs": [
    {
     "name": "stdout",
     "output_type": "stream",
     "text": [
      "Your algorithm finds the number using in average 5 attempts\n"
     ]
    },
    {
     "data": {
      "text/plain": [
       "5"
      ]
     },
     "execution_count": 2,
     "metadata": {},
     "output_type": "execute_result"
    }
   ],
   "source": [
    "import numpy as np\n",
    "\n",
    "# setting a random number to guess\n",
    "number = np.random.randint(1, 101)\n",
    "\n",
    "\n",
    "# function to search the guessed number\n",
    "def game_core_v3(number):\n",
    "    count = 0  # counter set to 0\n",
    "    guess = 0  # variable with our guess\n",
    "    start = 1  # start of the search range index\n",
    "    end = 100  # end of the search range index\n",
    "        \n",
    "    # binary search algorithm\n",
    "    while start <= end and number != guess:\n",
    "        count += 1\n",
    "        guess = (start+end)//2 # setting up our guess number to 50\n",
    "        \n",
    "        if number == guess:\n",
    "            return count\n",
    "        \n",
    "        if number < guess:\n",
    "            end = guess-1\n",
    "        else:\n",
    "            start = guess+1\n",
    "    return -1 # returns -1 in case the number is not in the search range\n",
    "\n",
    "\n",
    "def score_game(game_core):\n",
    "    '''Running the game 1000 times to find out how fast the algorithm\n",
    "    finds a number'''\n",
    "    count_ls = []\n",
    "\n",
    "    # fixing RANDOM SEED, to make the experiment reproducible!\n",
    "    np.random.seed(1)\n",
    "    random_array = np.random.randint(1, 101, size=(1000))\n",
    "\n",
    "    for number in random_array:\n",
    "        count_ls.append(game_core(number))\n",
    "\n",
    "    score = int(np.mean(count_ls))\n",
    "    print(f\"Your algorithm finds the number using in average {score} attempts\")\n",
    "\n",
    "    return(score)\n",
    "\n",
    "\n",
    "score_game(game_core_v3)"
   ]
  },
  {
   "cell_type": "code",
   "execution_count": null,
   "metadata": {},
   "outputs": [],
   "source": []
  }
 ],
 "metadata": {
  "kernelspec": {
   "display_name": "Python 3",
   "language": "python",
   "name": "python3"
  },
  "language_info": {
   "codemirror_mode": {
    "name": "ipython",
    "version": 3
   },
   "file_extension": ".py",
   "mimetype": "text/x-python",
   "name": "python",
   "nbconvert_exporter": "python",
   "pygments_lexer": "ipython3",
   "version": "3.8.5"
  }
 },
 "nbformat": 4,
 "nbformat_minor": 4
}
