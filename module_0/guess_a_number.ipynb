{
  "nbformat": 4,
  "nbformat_minor": 0,
  "metadata": {
    "colab": {
      "name": "guess_a_number.ipynb",
      "provenance": [],
      "collapsed_sections": []
    },
    "kernelspec": {
      "name": "python3",
      "display_name": "Python 3"
    }
  },
  "cells": [
    {
      "cell_type": "code",
      "metadata": {
        "id": "THM-Xg3F2P1d"
      },
      "source": [
        "import numpy as np\n",
        "\n",
        "# загадали случайное число\n",
        "# guessed random number\n",
        "number = np.random.randint(1,101) \n",
        "\n",
        "# функция которая ищет загаданное число\n",
        "# function to search the guessed number\n",
        "def game_core_v2(number):\n",
        "  count = 0 #счетчик/counter\n",
        "  start = 0\n",
        "  end = 100\n",
        "  # переменная с нашими предположениями\n",
        "  # variable with our guess\n",
        "  guess = 0 \n",
        "  search_list = list(range(0,101))\n",
        "  \n",
        "  while (start <= end):\n",
        "    count+=1\n",
        "    guess = (start+end)//2 # устанавливаем предикт равное 50\n",
        "\n",
        "    if number == search_list[guess]:\n",
        "      return count\n",
        "\n",
        "    if number < search_list[guess]:\n",
        "      end = guess-1\n",
        "    else:\n",
        "      start = guess+1\n",
        "  return -1\n",
        "\n",
        "    \n",
        "  \n",
        "\n",
        "    "
      ],
      "execution_count": 44,
      "outputs": []
    },
    {
      "cell_type": "code",
      "metadata": {
        "id": "vZ3p5EO9BKLD"
      },
      "source": [
        "def score_game(game_core):\n",
        "    '''Запускаем игру 1000 раз, чтобы узнать, как быстро игра угадывает число'''\n",
        "    count_ls = []\n",
        "    np.random.seed(1)  # фиксируем RANDOM SEED, чтобы ваш эксперимент был воспроизводим!\n",
        "    random_array = np.random.randint(1,101, size=(1000))\n",
        "    for number in random_array:\n",
        "        count_ls.append(game_core(number))\n",
        "    score = int(np.mean(count_ls))\n",
        "    print(f\"Ваш алгоритм угадывает число в среднем за {score} попыток\")\n",
        "    return(score)"
      ],
      "execution_count": 39,
      "outputs": []
    },
    {
      "cell_type": "code",
      "metadata": {
        "id": "ptrwdMVKBKsj",
        "outputId": "fee49564-1c84-4bc6-df53-9c492dc3f2a9",
        "colab": {
          "base_uri": "https://localhost:8080/"
        }
      },
      "source": [
        "search_array = list(range(0,101))\n",
        "search_array[50]"
      ],
      "execution_count": 26,
      "outputs": [
        {
          "output_type": "execute_result",
          "data": {
            "text/plain": [
              "50"
            ]
          },
          "metadata": {
            "tags": []
          },
          "execution_count": 26
        }
      ]
    },
    {
      "cell_type": "code",
      "metadata": {
        "id": "fnsem5-KEmd1",
        "outputId": "71892be8-e5ec-40b7-bb3a-cfdc17ae91b6",
        "colab": {
          "base_uri": "https://localhost:8080/"
        }
      },
      "source": [
        "game_core_v2(50)"
      ],
      "execution_count": 28,
      "outputs": [
        {
          "output_type": "execute_result",
          "data": {
            "text/plain": [
              "1"
            ]
          },
          "metadata": {
            "tags": []
          },
          "execution_count": 28
        }
      ]
    },
    {
      "cell_type": "code",
      "metadata": {
        "id": "DqXE05doGbLp",
        "outputId": "69c7222c-a0dd-4b5b-9438-32cee675bb46",
        "colab": {
          "base_uri": "https://localhost:8080/"
        }
      },
      "source": [
        "game_core_v2(25)"
      ],
      "execution_count": 29,
      "outputs": [
        {
          "output_type": "execute_result",
          "data": {
            "text/plain": [
              "6"
            ]
          },
          "metadata": {
            "tags": []
          },
          "execution_count": 29
        }
      ]
    },
    {
      "cell_type": "code",
      "metadata": {
        "id": "G4Spedg1GdTy",
        "outputId": "80650a22-52d2-4fba-fe6b-b64b271b8a8c",
        "colab": {
          "base_uri": "https://localhost:8080/"
        }
      },
      "source": [
        "game_core_v2(75)"
      ],
      "execution_count": 30,
      "outputs": [
        {
          "output_type": "execute_result",
          "data": {
            "text/plain": [
              "2"
            ]
          },
          "metadata": {
            "tags": []
          },
          "execution_count": 30
        }
      ]
    },
    {
      "cell_type": "code",
      "metadata": {
        "id": "lbapvGcMGfaB",
        "outputId": "2c846b83-7f4c-4f58-8d77-77f3c0c9473c",
        "colab": {
          "base_uri": "https://localhost:8080/"
        }
      },
      "source": [
        "game_core_v2(90)"
      ],
      "execution_count": 31,
      "outputs": [
        {
          "output_type": "execute_result",
          "data": {
            "text/plain": [
              "7"
            ]
          },
          "metadata": {
            "tags": []
          },
          "execution_count": 31
        }
      ]
    },
    {
      "cell_type": "code",
      "metadata": {
        "id": "rTBeLENJGhjx",
        "outputId": "87bbf999-8b7e-4399-adf8-207ec18b3981",
        "colab": {
          "base_uri": "https://localhost:8080/"
        }
      },
      "source": [
        "score_game(game_core_v2)"
      ],
      "execution_count": 45,
      "outputs": [
        {
          "output_type": "stream",
          "text": [
            "Ваш алгоритм угадывает число в среднем за 5 попыток\n"
          ],
          "name": "stdout"
        },
        {
          "output_type": "execute_result",
          "data": {
            "text/plain": [
              "5"
            ]
          },
          "metadata": {
            "tags": []
          },
          "execution_count": 45
        }
      ]
    },
    {
      "cell_type": "code",
      "metadata": {
        "id": "xQndY9mAG1qJ"
      },
      "source": [
        ""
      ],
      "execution_count": null,
      "outputs": []
    }
  ]
}