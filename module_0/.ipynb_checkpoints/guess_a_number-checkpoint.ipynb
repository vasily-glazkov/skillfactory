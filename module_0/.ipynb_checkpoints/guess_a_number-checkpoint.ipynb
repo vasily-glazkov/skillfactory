{
 "cells": [
  {
   "cell_type": "code",
   "execution_count": null,
   "metadata": {},
   "outputs": [],
   "source": [
    "import numpy as np\n",
    "\n",
    "# загадали случайное число\n",
    "# guessed random number\n",
    "number = np.random.randint(1,101) \n",
    "\n",
    "# функция которая ищет загаданное число\n",
    "# function to search the guessed number\n",
    "def game_core_v2(number):\n",
    "  count = 0 #счетчик/counter\n",
    "  start = 0\n",
    "  end = 100\n",
    "  # переменная с нашими предположениями\n",
    "  # variable with our guess\n",
    "  guess = 0 \n",
    "  search_list = list(range(0,101))\n",
    "  \n",
    "  while (start <= end):\n",
    "    count+=1\n",
    "    guess = (start+end)//2 # устанавливаем предикт равное 50\n",
    "\n",
    "    if number == search_list[guess]:\n",
    "      return count\n",
    "\n",
    "    if number < search_list[guess]:\n",
    "      end = guess-1\n",
    "    else:\n",
    "      start = guess+1\n",
    "  return -1\n",
    "\n",
    "    \n",
    "  def score_game(game_core):\n",
    "    '''Запускаем игру 1000 раз, чтобы узнать, как быстро игра угадывает число'''\n",
    "    count_ls = []\n",
    "    np.random.seed(1)  # фиксируем RANDOM SEED, чтобы ваш эксперимент был воспроизводим!\n",
    "    random_array = np.random.randint(1,101, size=(1000))\n",
    "    for number in random_array:\n",
    "        count_ls.append(game_core(number))\n",
    "    score = int(np.mean(count_ls))\n",
    "    print(f\"Ваш алгоритм угадывает число в среднем за {score} попыток\")\n",
    "    return(score)"
   ]
  }
 ],
 "metadata": {
  "kernelspec": {
   "display_name": "Python 3",
   "language": "python",
   "name": "python3"
  },
  "language_info": {
   "codemirror_mode": {
    "name": "ipython",
    "version": 3
   },
   "file_extension": ".py",
   "mimetype": "text/x-python",
   "name": "python",
   "nbconvert_exporter": "python",
   "pygments_lexer": "ipython3",
   "version": "3.8.5"
  }
 },
 "nbformat": 4,
 "nbformat_minor": 4
}
